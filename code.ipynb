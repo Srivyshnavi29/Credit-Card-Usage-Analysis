{
 "cells": [
  {
   "cell_type": "code",
   "execution_count": null,
   "id": "0e858e92",
   "metadata": {},
   "outputs": [
    {
     "data": {
      "text/html": [
       "<div>\n",
       "<style scoped>\n",
       "    .dataframe tbody tr th:only-of-type {\n",
       "        vertical-align: middle;\n",
       "    }\n",
       "\n",
       "    .dataframe tbody tr th {\n",
       "        vertical-align: top;\n",
       "    }\n",
       "\n",
       "    .dataframe thead th {\n",
       "        text-align: right;\n",
       "    }\n",
       "</style>\n",
       "<table border=\"1\" class=\"dataframe\">\n",
       "  <thead>\n",
       "    <tr style=\"text-align: right;\">\n",
       "      <th></th>\n",
       "      <th>Posted Date</th>\n",
       "      <th>Transaction Date</th>\n",
       "      <th>Description</th>\n",
       "      <th>Transaction Type</th>\n",
       "      <th>Category</th>\n",
       "      <th>Location</th>\n",
       "      <th>Amount (USD)</th>\n",
       "    </tr>\n",
       "  </thead>\n",
       "  <tbody>\n",
       "    <tr>\n",
       "      <th>0</th>\n",
       "      <td>3/3/2025</td>\n",
       "      <td>3/4/2025</td>\n",
       "      <td>WALMART</td>\n",
       "      <td>Purchase</td>\n",
       "      <td>Groceries</td>\n",
       "      <td>COM ARUSA</td>\n",
       "      <td>$37.04</td>\n",
       "    </tr>\n",
       "    <tr>\n",
       "      <th>1</th>\n",
       "      <td>9/4/2025</td>\n",
       "      <td>3/8/2028</td>\n",
       "      <td>MTEVEREST</td>\n",
       "      <td>Purchase</td>\n",
       "      <td>Food &amp; Dining</td>\n",
       "      <td>SAN FRANCISCOCAUSA</td>\n",
       "      <td>$31.72</td>\n",
       "    </tr>\n",
       "    <tr>\n",
       "      <th>2</th>\n",
       "      <td>3/4/2025</td>\n",
       "      <td>3/6/2025</td>\n",
       "      <td>7-ELEVEN</td>\n",
       "      <td>Purchase</td>\n",
       "      <td>Food &amp; Dining</td>\n",
       "      <td>OKLAHOMA CITYOKUSA</td>\n",
       "      <td>$5.02</td>\n",
       "    </tr>\n",
       "    <tr>\n",
       "      <th>3</th>\n",
       "      <td>3/4/2025</td>\n",
       "      <td>3/6/2025</td>\n",
       "      <td>7-ELEVEN</td>\n",
       "      <td>Purchase</td>\n",
       "      <td>Food &amp; Dining</td>\n",
       "      <td>OKLAHOMA CITYOKUSA</td>\n",
       "      <td>$2.82</td>\n",
       "    </tr>\n",
       "    <tr>\n",
       "      <th>4</th>\n",
       "      <td>3/8/2025</td>\n",
       "      <td>3/9/2025</td>\n",
       "      <td>DESIBITES</td>\n",
       "      <td>Purchase</td>\n",
       "      <td>Food &amp; Dining</td>\n",
       "      <td>SAN FRANCISCOCAUSA</td>\n",
       "      <td>$21.24</td>\n",
       "    </tr>\n",
       "  </tbody>\n",
       "</table>\n",
       "</div>"
      ],
      "text/plain": [
       "  Posted Date Transaction Date Description Transaction Type       Category  \\\n",
       "0    3/3/2025         3/4/2025     WALMART         Purchase      Groceries   \n",
       "1    9/4/2025         3/8/2028   MTEVEREST         Purchase  Food & Dining   \n",
       "2    3/4/2025         3/6/2025    7-ELEVEN         Purchase  Food & Dining   \n",
       "3    3/4/2025         3/6/2025    7-ELEVEN         Purchase  Food & Dining   \n",
       "4    3/8/2025         3/9/2025   DESIBITES         Purchase  Food & Dining   \n",
       "\n",
       "             Location Amount (USD)  \n",
       "0           COM ARUSA       $37.04  \n",
       "1  SAN FRANCISCOCAUSA       $31.72  \n",
       "2  OKLAHOMA CITYOKUSA        $5.02  \n",
       "3  OKLAHOMA CITYOKUSA        $2.82  \n",
       "4  SAN FRANCISCOCAUSA       $21.24  "
      ]
     },
     "execution_count": 1,
     "metadata": {},
     "output_type": "execute_result"
    }
   ],
   "source": [
    "import pandas as pd\n",
    "df = pd.read_csv(\"Credit_Card.csv\")\n",
    "df.head()"
   ]
  },
  {
   "cell_type": "code",
   "execution_count": 3,
   "id": "5847b4a2",
   "metadata": {},
   "outputs": [
    {
     "name": "stdout",
     "output_type": "stream",
     "text": [
      "✅ Data cleaned and saved to 'Cleaned_Credit_Card_Data.xlsx'\n"
     ]
    }
   ],
   "source": [
    "import pandas as pd\n",
    "\n",
    "# Load CSV file\n",
    "df = pd.read_csv(\"Credit_Card.csv\")\n",
    "\n",
    "# Clean Amount column\n",
    "df['Amount (USD)'] = df['Amount (USD)'].replace(r'[\\$,]', '', regex=True).astype(float)\n",
    "\n",
    "\n",
    "# Convert date column\n",
    "df['Transaction Date'] = pd.to_datetime(df['Transaction Date'])\n",
    "\n",
    "# Add Month column\n",
    "df['Month'] = df['Transaction Date'].dt.to_period('M')\n",
    "\n",
    "# Save cleaned data to new Excel file\n",
    "df.to_excel(\"Cleaned_Credit_Card_Data.xlsx\", index=False)\n",
    "\n",
    "print(\"✅ Data cleaned and saved to 'Cleaned_Credit_Card_Data.xlsx'\")\n"
   ]
  }
 ],
 "metadata": {
  "kernelspec": {
   "display_name": "Python 3",
   "language": "python",
   "name": "python3"
  },
  "language_info": {
   "codemirror_mode": {
    "name": "ipython",
    "version": 3
   },
   "file_extension": ".py",
   "mimetype": "text/x-python",
   "name": "python",
   "nbconvert_exporter": "python",
   "pygments_lexer": "ipython3",
   "version": "3.13.3"
  }
 },
 "nbformat": 4,
 "nbformat_minor": 5
}
